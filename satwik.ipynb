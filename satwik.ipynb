{
 "cells": [
  {
   "cell_type": "code",
   "execution_count": 1,
   "metadata": {},
   "outputs": [
    {
     "name": "stdout",
     "output_type": "stream",
     "text": [
      "enter tables upto:3\n",
      "enter table length:10\n",
      "1 * 1 = 1 \n",
      "1 * 2 = 2 \n",
      "1 * 3 = 3 \n",
      "1 * 4 = 4 \n",
      "1 * 5 = 5 \n",
      "1 * 6 = 6 \n",
      "1 * 7 = 7 \n",
      "1 * 8 = 8 \n",
      "1 * 9 = 9 \n",
      "1 * 10 = 10 \n",
      "2 * 1 = 2 \n",
      "2 * 2 = 4 \n",
      "2 * 3 = 6 \n",
      "2 * 4 = 8 \n",
      "2 * 5 = 10 \n",
      "2 * 6 = 12 \n",
      "2 * 7 = 14 \n",
      "2 * 8 = 16 \n",
      "2 * 9 = 18 \n",
      "2 * 10 = 20 \n",
      "3 * 1 = 3 \n",
      "3 * 2 = 6 \n",
      "3 * 3 = 9 \n",
      "3 * 4 = 12 \n",
      "3 * 5 = 15 \n",
      "3 * 6 = 18 \n",
      "3 * 7 = 21 \n",
      "3 * 8 = 24 \n",
      "3 * 9 = 27 \n",
      "3 * 10 = 30 \n"
     ]
    }
   ],
   "source": [
    "t=int(input('enter tables upto:'))\n",
    "t_len=int(input('enter table length:'))\n",
    "for i in range(1,t+1):\n",
    "    for j in range(1,t_len+1):\n",
    "        print('{} * {} = {} '.format(i,j,i*j))"
   ]
  },
  {
   "cell_type": "code",
   "execution_count": 2,
   "metadata": {},
   "outputs": [
    {
     "name": "stdout",
     "output_type": "stream",
     "text": [
      "10 8 6 4 2 "
     ]
    }
   ],
   "source": [
    "for i in range(10,0,-2):\n",
    "    print(i,end =' ')\n",
    "    "
   ]
  },
  {
   "cell_type": "code",
   "execution_count": 3,
   "metadata": {},
   "outputs": [
    {
     "name": "stdout",
     "output_type": "stream",
     "text": [
      "10 9 8 7 6 5 4 3 2 1 "
     ]
    }
   ],
   "source": [
    "i=10\n",
    "while i>0:\n",
    "    print(i,end =' ')\n",
    "    i-=1"
   ]
  },
  {
   "cell_type": "code",
   "execution_count": 2,
   "metadata": {},
   "outputs": [
    {
     "name": "stdout",
     "output_type": "stream",
     "text": [
      "1 2 3 4 6 7 8 9 "
     ]
    }
   ],
   "source": [
    "# Break\n",
    "# continue\n",
    "\n",
    "for i in range(1,10):\n",
    "    \n",
    "    if i == 5:\n",
    "        continue\n",
    "    print(i,end = ' ')"
   ]
  },
  {
   "cell_type": "markdown",
   "metadata": {},
   "source": [
    "### FUNCTIONS:\n",
    "- Block of code to perform some operations\n",
    "- uses:\n",
    "  -code reusability\n",
    "  -readability of the program\n",
    "  -code reduce\n",
    "  -time decrease\n",
    "-TYPES OF FUNCTIONS:\n",
    "  -1. inbuilt/default functions:\n",
    "     -ex:print,sum,max,min,int\n",
    "  -2. user defined functions:\n",
    "     1.) function creation:\n",
    "       1. function declaration:\n",
    "          'def Function name(arguments):'\n",
    "       2. function definition\n",
    "          'statements'\n",
    "     2.) function calling\n",
    "         'by using function name'\n",
    "  -3. special functions:\n",
    "       -lambda,comprehensions,iterators,map"
   ]
  },
  {
   "cell_type": "code",
   "execution_count": 6,
   "metadata": {},
   "outputs": [
    {
     "name": "stdout",
     "output_type": "stream",
     "text": [
      "9\n",
      "4\n"
     ]
    }
   ],
   "source": [
    "#function creation:\n",
    "def add(a,b):\n",
    "    print(a+b)\n",
    "    return a\n",
    "a = add(4,5)\n",
    "print(a)"
   ]
  },
  {
   "cell_type": "markdown",
   "metadata": {},
   "source": [
    "# types of user defined functions\n",
    "# based on return value\n",
    "#1. without arg and without return value\n",
    "#2. without arg and with return value\n",
    "#3. with arg and without return value\n",
    "#4. with arg and with return value\n"
   ]
  },
  {
   "cell_type": "code",
   "execution_count": 7,
   "metadata": {},
   "outputs": [
    {
     "name": "stdout",
     "output_type": "stream",
     "text": [
      "enter n value:50\n",
      "number is not a factor of 10\n",
      "enter n value:2\n",
      "number is factor of 10\n",
      "None\n"
     ]
    }
   ],
   "source": [
    "#1.without arg and without return value\n",
    "def f1():\n",
    "    n=int(input('enter n value:'))\n",
    "    if 10%n ==0:\n",
    "        print('number is factor of 10')\n",
    "    else:\n",
    "        print('number is not a factor of 10')\n",
    "f1()\n",
    "n= f1()\n",
    "print(n)"
   ]
  },
  {
   "cell_type": "code",
   "execution_count": 9,
   "metadata": {},
   "outputs": [
    {
     "name": "stdout",
     "output_type": "stream",
     "text": [
      "enter n1 value25\n",
      "enter n2 value25\n",
      "50\n",
      "0\n",
      "625\n",
      "1.0\n"
     ]
    }
   ],
   "source": [
    "#1. without arg and with return value\n",
    "def f2():\n",
    "    n1 = int(input('enter n1 value'))\n",
    "    n2 = int(input('enter n2 value'))\n",
    "    return n1+n2,n1-n2,n1*n2,n1/n2\n",
    "add,sub,mul,div = f2()\n",
    "print(add)\n",
    "print(sub)\n",
    "print(mul)\n",
    "print(div)"
   ]
  },
  {
   "cell_type": "code",
   "execution_count": 13,
   "metadata": {},
   "outputs": [
    {
     "name": "stdout",
     "output_type": "stream",
     "text": [
      "enter n1 value6\n",
      "enter n2 value36\n"
     ]
    }
   ],
   "source": [
    "# with arg and without return\n",
    "n1 = int(input('enter n1 value'))\n",
    "n2 = int(input('enter n2 value'))\n",
    "def f2(n1,n2):\n",
    "    print('addition is:',n1+n2)\n",
    "    print('subtraction is:',n1-n2)\n",
    "    print('mulitiplication is:',n1*n2)\n",
    "    print('division is:',n1/n2)"
   ]
  },
  {
   "cell_type": "code",
   "execution_count": 14,
   "metadata": {},
   "outputs": [
    {
     "name": "stdout",
     "output_type": "stream",
     "text": [
      "enter n1 value56\n",
      "enter n2 value23\n"
     ]
    }
   ],
   "source": [
    "# with arg and with return value\n",
    "n1 = int(input('enter n1 value'))\n",
    "n2 = int(input('enter n2 value'))\n",
    "def f2(n1,n2):\n",
    "    print('addition is:',n1+n2)\n",
    "    print('subtraction is:',n1-n2)\n",
    "    print('mulitiplication is:',n1*n2)\n",
    "    print('division is:',n1/n2)\n"
   ]
  },
  {
   "cell_type": "code",
   "execution_count": null,
   "metadata": {},
   "outputs": [],
   "source": []
  }
 ],
 "metadata": {
  "kernelspec": {
   "display_name": "Python 3",
   "language": "python",
   "name": "python3"
  },
  "language_info": {
   "codemirror_mode": {
    "name": "ipython",
    "version": 3
   },
   "file_extension": ".py",
   "mimetype": "text/x-python",
   "name": "python",
   "nbconvert_exporter": "python",
   "pygments_lexer": "ipython3",
   "version": "3.7.3"
  }
 },
 "nbformat": 4,
 "nbformat_minor": 2
}
